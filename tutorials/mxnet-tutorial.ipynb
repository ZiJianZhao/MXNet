{
 "cells": [
  {
   "cell_type": "markdown",
   "metadata": {
    "nbpresent": {
     "id": "0cf282bb-0598-4803-9718-a7e8ccc4abd2"
    }
   },
   "source": [
    "# MXNet Introduction and Tutorial"
   ]
  },
  {
   "cell_type": "markdown",
   "metadata": {
    "nbpresent": {
     "id": "50411765-bf5d-4c84-9915-48f71f3ea3d2"
    }
   },
   "source": [
    "## Contents\n",
    "0. [MXNet简介](#MXNet简介)\n",
    "    0. [概况](#概况)\n",
    "    0. [设计思想](#设计思想)\n",
    "    0. [系统架构](#系统架构)\n",
    "    0. [编程接口](#编程接口)\n",
    "    0. [模型训练流程](#模型训练流程)\n",
    "0. [MXNet Basic Tutorial: Hand Written Digit Recognition](#MXNet-Basic-Tutorial:-Hand-Written-Digit-Recognition)\n",
    "    0. [Network Definition](#Network-Definition)\n",
    "    0. [Variable Naming](#Variable-Naming)\n",
    "    0. [Data Loading](#Data-Loading)\n",
    "    0. [Model Training](#Model-Training)\n",
    "    0. [Model Evaluation](#Model-Evaluation)\n",
    "    0. [Model Debugging](#Model-Debugging)\n",
    "    0. [Custom Training](#Custom-Training)\n",
    "    0. [Create New Operators](#Create-New-Operators)\n",
    "0. [MXNet Advanced Topic: Data Iterator and Bucketing](#MXNet-Advanced-Topic:-Data-Iterator-and-Bucketing)\n",
    "    0. [Customized Data Iterator](#Customized-Data-Iterator)\n",
    "    0. [Bucketing](#Bucketing)"
   ]
  },
  {
   "cell_type": "markdown",
   "metadata": {
    "nbpresent": {
     "id": "13a8bcf9-e0f8-4df0-af7d-3395c8968b42"
    }
   },
   "source": [
    "## MXNet简介\n",
    "0. [概况](#概况)\n",
    "0. [设计思想](#设计思想)\n",
    "0. [系统架构](#系统架构)\n",
    "0. [编程接口](#编程接口)\n",
    "0. [模型训练流程](#模型训练流程)"
   ]
  },
  {
   "cell_type": "markdown",
   "metadata": {
    "nbpresent": {
     "id": "e1841afb-3e76-4b44-a497-012e2954f154"
    }
   },
   "source": [
    "### 概况\n",
    " - 来自 Distributed (Deep) Machine Learning Community\n",
    " - 灵活性: 支持命令式（imprative）和符号式（symbolic） 编程\n",
    " - 可移植性：可运行在多种平台，包括集群、服务器、个人电脑、移动电话\n",
    " - 多语言接口：支持C++、python、R、Scale、Julia、Matlab、Javascript\n",
    " - 分布式计算：支持多机器，多GPU并行计算\n",
    " - 性能：目前已知最快"
   ]
  },
  {
   "cell_type": "markdown",
   "metadata": {
    "nbpresent": {
     "id": "9d397911-df60-42ef-bb69-2ec9ed10af5f"
    }
   },
   "source": [
    "### 设计思想\n",
    "\n",
    "#### 编程范式\n",
    "0. 命令式编程\n",
    " - 命令“机器”如何去做事情(how)，这样不管你想要的是什么(what)，它都会按照你的命令实现。\n",
    " - 例子：numpy，matlab\n",
    "0. 声明式编程\n",
    " - 告诉“机器”你想要的是什么(what)，让机器想出如何去做(how)。（caffe）\n",
    " - 例子：caffe\n",
    "\n",
    "#### MXNet编程范式\n",
    "0. 命令式编程\n",
    " - 张量运算：NDArray\n",
    " - 模型的迭代训练和更新模型法则中可能涉及大量的控制逻辑；方便地调试和与主语言交互数据。\n",
    "0. 声明式编程\n",
    " - 符号表达式：Symbol\n",
    " - 描述神经网络，并利用系统提供的自动求导来训练模型。\n"
   ]
  },
  {
   "cell_type": "markdown",
   "metadata": {
    "nbpresent": {
     "id": "b03eea61-a2c8-4089-ad8b-be8896fd976b"
    }
   },
   "source": [
    "|模型|浅嵌入，命令式编程|深嵌入，声明式编程|\n",
    "|------|---------------------------|---------------------------|\n",
    "|如何执行a=b+1|需要b已经被赋值。立即执行加法，将结果保存在a中。|返回对应的计算图(computation graph)，我们可以之后对b进行赋值，然后再执行加法运算|\n",
    "|优点 |语义上容易理解，灵活，可以精确控制行为。通常可以无缝的和主语言交互，方便的利用主语言的各类算法，工具包，bug和性能调试器。|在真正开始计算的时候已经拿到了整个计算图，所以我们可以做一系列优化来提升性能。实现辅助函数也容易，例如对任何计算图都提供forward和backward函数，对计算图进行可视化，将图保存到硬盘和从硬盘读取。|\n",
    "|缺点|实现统一的辅助函数困和提供整体优化都很困难。|很多主语言的特性都用不上。某些在主语言中实现简单，但在这里却经常麻烦，例如if-else语句 。debug也不容易，例如监视一个复杂的计算图中的某个节点的中间结果并不简单。|"
   ]
  },
  {
   "cell_type": "markdown",
   "metadata": {
    "nbpresent": {
     "id": "76e88138-e7f4-4c74-ae8f-59a2381e8360"
    }
   },
   "source": [
    "#### 深度学习系统比较\n",
    "\n",
    "|系统|主语言|从语言|硬件|分布式|命令式|声明式|\n",
    "|------|---------|---------|------|---------|---------|---------|\n",
    "|Caffe|C++|Python/Matlab|CPU/GPU|x|x|v|\n",
    "|Torch|Lua|-|CPU/GPU/FPGA|x|v|x|\n",
    "|Theano|Python|-|CPU/GPU|x|x|v|\n",
    "|TensorFlow|C++|Python|CPU/GPU/Mobile|v|x|v|\n",
    "|MXNet|C++|Python/R/Julia/Go|CPU/GPU/Mobile|v|v|v|"
   ]
  },
  {
   "cell_type": "markdown",
   "metadata": {
    "collapsed": true,
    "nbpresent": {
     "id": "b414d183-1916-4e85-9615-c8612cc719ad"
    }
   },
   "source": [
    "### 系统架构\n",
    "<img src=\"https://raw.githubusercontent.com/dmlc/web-data/master/mxnet/paper/sys.png\" width=\"400\" height=\"400\"/>\n",
    "从上到下分别为:\n",
    " - 各种主语言的嵌入\n",
    " - 编程接口（矩阵运算，符号表达式，分布式通讯）\n",
    " - 两种编程模式的统一系统实现\n",
    " - 各硬件的支持。"
   ]
  },
  {
   "cell_type": "markdown",
   "metadata": {
    "nbpresent": {
     "id": "1d006b2c-6613-4689-8095-79b70407d3b1"
    }
   },
   "source": [
    "### 编程接口\n",
    "\n",
    "#### Symbol：声明式的符号表达式\n",
    "0. MXNet使用多值输出的符号表达式来声明计算图。符号是由操作子构建而来。\n",
    "0. 一个操作子可以是一个简单的矩阵运算“+”，也可以是一个复杂的神经网络里面的层，例如卷积层。\n",
    "0. 一个操作子可以有多个输入变量和多个输出变量，还可以有内部状态变量。\n",
    "0. 在执行一个符号表达式前，我们需要对所有的自由变量进行赋值。例如给定数据，和各个层里隐式定义的输入（权重和偏值）\n",
    "\n",
    "代码示例：定义一个多层感知器网络\n",
    "```Python\n",
    "data = mx.symbol.Variable('data')\n",
    "label = mx.symbol.Variable('softmax_label')\n",
    "fc1 = mx.symbol.FullyConnected(data = data, name = 'fc1', num_hidden = 128)\n",
    "act1 = mx.symbol.Activation(data = fc1, name = 'relu1', act_type = 'relu')\n",
    "fc2 = mx.symbol.FullyConnected(data = act1, name = 'fc2', num_hidden = 64)\n",
    "act2 = mx.symbol.Activation(data = fc2, name = 'relu2', act_type = 'relu')\n",
    "fc3 = mx.symbol.FullyConnected(data = act2, name = 'fc3', num_hidden = 10)\n",
    "mlp = mx.symbol.SoftmaxOutput(data = fc3, label = label, name = 'softmax')\n",
    "```"
   ]
  },
  {
   "cell_type": "markdown",
   "metadata": {
    "nbpresent": {
     "id": "a944ce28-b0cc-4826-9b18-f012fa19ebdb"
    }
   },
   "source": [
    "#### NDArray：命令式的张量计算\n",
    "0. MXNet提供命令式的张量计算来桥接主语言的和符号表达式。\n",
    "0. 基本语法类似于numpy。\n",
    "0. NDArray可以无缝和符号表达式进行对接。\n",
    "\n",
    "代码示例：基本变量定义和梯度下降算法\n",
    "```Python\n",
    "a = mx.nd.zeros((100, 50))\n",
    "a[0:10] = 1\n",
    "gpu_a = mx.nd.zeros((100, 50), mx.Context(mx.gpu(0)))\n",
    "print a.shape\n",
    "print a.asnumpy()\n",
    "b = mx.nd.array([[1, 2, 3], [4, 5, 6]])\n",
    "\n",
    "# Parameter Update\n",
    "for (int i = 0; i < max_iter; ++i) {\n",
    "  network.forward();\n",
    "  network.backward();\n",
    "  network.weight -= eta * network.gradient\n",
    "}\n",
    "```"
   ]
  },
  {
   "cell_type": "markdown",
   "metadata": {
    "nbpresent": {
     "id": "7013acfb-5df1-4c69-9c46-bb956ad3022a"
    }
   },
   "source": [
    "#### KVStore：多设备间的数据交互\n",
    "0. push： 将key-value对从一个设备push进存储。\n",
    "0. pull：将某个key上的值从存储中pull出来。\n",
    "0. KVStore还接受自定义的更新函数来控制收到的值如何写入到存储中。\n",
    "0. KVStore提供数种包含最终一致性模型和顺序一致性模型在内的数据一致性模型。\n",
    "\n",
    "```Python\n",
    "KVStore kvstore(\"dist_async\");\n",
    "kvstore.set_updater([](NDArray weight, NDArray gradient) {\n",
    "    weight -= eta * gradient;\n",
    "  });\n",
    "for (int i = 0; i < max_iter; ++i) {\n",
    "   kvstore.pull(network.weight);\n",
    "   network.forward();\n",
    "   network.backward();\n",
    "   kvstore.push(network.gradient);\n",
    "}\n",
    "```"
   ]
  },
  {
   "cell_type": "markdown",
   "metadata": {
    "nbpresent": {
     "id": "c22349f2-da1a-4699-aba8-8cbf7884be70"
    }
   },
   "source": [
    "\n",
    "#### Model：训练模块\n",
    "0. MXNet实现了常用的优化算法来训练模型。\n",
    "0. 用户只需要提供数据数据迭代器和神经网络的Symbol。\n",
    "0. 用户可以提供额外的KVStore来进行分布式的训练。\n",
    "\n",
    "代码示例：使用SGD来训练一个模型。\n",
    "```Python\n",
    "model = mx.model.FeedForward(\n",
    "    ctx                = mx.gpu(0),\n",
    "    symbol             = network,\n",
    "    num_epoch          = 100,\n",
    "    optimizer          = 'sgd',\n",
    "    learning_rate      = 0.01,\n",
    "    momentum           = 0.9,\n",
    "    wd                 = 0.00001,\n",
    "    initializer        = mx.init.Xavier(factor_type=\"in\", magnitude=2.34)\n",
    ")\n",
    "model.fit(\n",
    "    X                  = train_iter,\n",
    "    eval_data          = val_iter,\n",
    "    eval_metric        = 'acc',\n",
    "    batch_end_callback = [mx.callback.Speedometer(batch_size, frequent = 100)],\n",
    "    epoch_end_callback = [mx.callback.do_checkpoint('model_')]\n",
    ")\n",
    "```"
   ]
  },
  {
   "cell_type": "markdown",
   "metadata": {
    "nbpresent": {
     "id": "4aa90b5b-22d8-4709-8b47-a7f75dd3fc91"
    }
   },
   "source": [
    "#### 其他模块\n",
    "0. IO：定义数据迭代器，如NDArrayIter等\n",
    "0. Metric：定义评测标准，如accuracy，F1-Score, CrossEntropy等\n",
    "0. Initializer：定义初始化方法，如Uniform，Normal，orthogonal等\n",
    "0. Optimizer：定义优化方法，如SGD，Adam，AdaGrad等"
   ]
  },
  {
   "cell_type": "markdown",
   "metadata": {
    "nbpresent": {
     "id": "ea2aebbd-ef27-42f0-bb7f-81f5ffa17da4"
    }
   },
   "source": [
    "### 模型训练流程\n",
    " - 定义网络结构：mx.symbol.FullyConnected(), mx.symbol.Convolution()\n",
    " - 定义数据迭代器：mx.io.DataIter\n",
    " - 初始化参数：mx.initializer.Uniform(), mx.initializer.Orthogonal(), mx.initializer.Normal()\n",
    " - 确定优化方法：mx.optimizer.SGD(), mx.optimizer.Adam()\n",
    " - 确定评价标准：mx.metric.Accuracy, mx.metric.CrossEntropy()\n",
    " - 训练模型;mx.model.FeedForward(), model.fit()"
   ]
  },
  {
   "cell_type": "markdown",
   "metadata": {
    "nbpresent": {
     "id": "603705ab-e9c9-4dc4-b0ba-7da585395db5"
    }
   },
   "source": [
    "## MXNet Basic Tutorial: Hand Written Digit Recognition\n",
    "0. [Network Definition](#Network-Definition)\n",
    "0. [Variable Naming](#Variable-Naming)\n",
    "0. [Data Loading](#Data-Loading)\n",
    "0. [Model Training](#Model-Training)\n",
    "0. [Model Evaluation](#Model-Evaluation)\n",
    "0. [Model Debugging](#Model-Debugging)\n",
    "0. [Custom Training](#Custom-Training)\n",
    "0. [Create New Operators](#Create-New-Operators)"
   ]
  },
  {
   "cell_type": "markdown",
   "metadata": {
    "nbpresent": {
     "id": "d68e0444-a41c-46eb-99a7-9af62e7e609c"
    }
   },
   "source": [
    "First let's import the modules and setup logging:"
   ]
  },
  {
   "cell_type": "code",
   "execution_count": 1,
   "metadata": {
    "collapsed": false,
    "nbpresent": {
     "id": "1001e55f-85ff-4366-98d2-eec651237f29"
    }
   },
   "outputs": [],
   "source": [
    "%matplotlib inline\n",
    "import mxnet as mx\n",
    "import numpy as np\n",
    "import cv2\n",
    "import matplotlib.pyplot as plt\n",
    "import logging\n",
    "\n",
    "logger = logging.getLogger()\n",
    "logger.setLevel(logging.DEBUG)"
   ]
  },
  {
   "cell_type": "markdown",
   "metadata": {
    "collapsed": true,
    "nbpresent": {
     "id": "1dd84e17-e260-4875-adf5-4de6a61fa32a"
    }
   },
   "source": [
    "### Network Definition\n",
    "Now we can start constructing our network:"
   ]
  },
  {
   "cell_type": "code",
   "execution_count": 2,
   "metadata": {
    "collapsed": false,
    "nbpresent": {
     "id": "4da7999e-fa59-4425-9f4d-a1fde6174645"
    }
   },
   "outputs": [],
   "source": [
    "# Variables are place holders for input arrays. We give each variable a unique name.\n",
    "data = mx.symbol.Variable('data')\n",
    "\n",
    "fc1  = mx.symbol.FullyConnected(data = data, name='fc1', num_hidden=128)\n",
    "act1 = mx.symbol.Activation(data = fc1, name='relu1', act_type=\"relu\")\n",
    "\n",
    "fc2  = mx.symbol.FullyConnected(data = act1, name = 'fc2', num_hidden = 64)\n",
    "act2 = mx.symbol.Activation(data = fc2, name='relu2', act_type=\"relu\")\n",
    "\n",
    "fc3  = mx.symbol.FullyConnected(data = act2, name='fc3', num_hidden=10)\n",
    "# Finally we have a loss layer that compares the network's output with label and generates gradient signals.\n",
    "# mxnet has no specific loss class, the last(output) layer also determines the loss function\n",
    "# the last layer in the network is always the symbol end with 'Output' \n",
    "mlp  = mx.symbol.SoftmaxOutput(data = fc3, name = 'softmax')"
   ]
  },
  {
   "cell_type": "markdown",
   "metadata": {
    "nbpresent": {
     "id": "4539c1c4-aabe-4393-858c-21b0408f6720"
    }
   },
   "source": [
    "We can visualize the network we just defined with MXNet's visualization module:"
   ]
  },
  {
   "cell_type": "code",
   "execution_count": 3,
   "metadata": {
    "collapsed": false,
    "nbpresent": {
     "id": "4e35daf2-fc03-4a53-ad16-c287dbf61338"
    }
   },
   "outputs": [
    {
     "data": {
      "image/svg+xml": [
       "<?xml version=\"1.0\" encoding=\"UTF-8\" standalone=\"no\"?>\n",
       "<!DOCTYPE svg PUBLIC \"-//W3C//DTD SVG 1.1//EN\"\n",
       " \"http://www.w3.org/Graphics/SVG/1.1/DTD/svg11.dtd\">\n",
       "<!-- Generated by graphviz version 2.38.0 (20140413.2041)\n",
       " -->\n",
       "<!-- Title: plot Pages: 1 -->\n",
       "<svg width=\"214pt\" height=\"630pt\"\n",
       " viewBox=\"0.00 0.00 214.00 630.00\" xmlns=\"http://www.w3.org/2000/svg\" xmlns:xlink=\"http://www.w3.org/1999/xlink\">\n",
       "<g id=\"graph0\" class=\"graph\" transform=\"scale(1 1) rotate(0) translate(4 626)\">\n",
       "<title>plot</title>\n",
       "<polygon fill=\"white\" stroke=\"none\" points=\"-4,4 -4,-626 210,-626 210,4 -4,4\"/>\n",
       "<!-- data -->\n",
       "<g id=\"node1\" class=\"node\"><title>data</title>\n",
       "<ellipse fill=\"#8dd3c7\" stroke=\"black\" cx=\"47\" cy=\"-29\" rx=\"47\" ry=\"29\"/>\n",
       "<text text-anchor=\"middle\" x=\"47\" y=\"-25.3\" font-family=\"Times,serif\" font-size=\"14.00\">data</text>\n",
       "</g>\n",
       "<!-- fc1 -->\n",
       "<g id=\"node2\" class=\"node\"><title>fc1</title>\n",
       "<polygon fill=\"#fb8072\" stroke=\"black\" points=\"94,-152 -7.10543e-15,-152 -7.10543e-15,-94 94,-94 94,-152\"/>\n",
       "<text text-anchor=\"middle\" x=\"47\" y=\"-126.8\" font-family=\"Times,serif\" font-size=\"14.00\">FullyConnected</text>\n",
       "<text text-anchor=\"middle\" x=\"47\" y=\"-111.8\" font-family=\"Times,serif\" font-size=\"14.00\">128</text>\n",
       "</g>\n",
       "<!-- fc1&#45;&gt;data -->\n",
       "<g id=\"edge1\" class=\"edge\"><title>fc1&#45;&gt;data</title>\n",
       "<path fill=\"none\" stroke=\"black\" d=\"M47,-83.7443C47,-75.2043 47,-66.2977 47,-58.2479\"/>\n",
       "<polygon fill=\"black\" stroke=\"black\" points=\"47,-93.8971 42.5001,-83.897 47,-88.8971 47.0001,-83.8971 47.0001,-83.8971 47.0001,-83.8971 47,-88.8971 51.5001,-83.8971 47,-93.8971 47,-93.8971\"/>\n",
       "</g>\n",
       "<!-- relu1 -->\n",
       "<g id=\"node3\" class=\"node\"><title>relu1</title>\n",
       "<polygon fill=\"#ffffb3\" stroke=\"black\" points=\"94,-246 -7.10543e-15,-246 -7.10543e-15,-188 94,-188 94,-246\"/>\n",
       "<text text-anchor=\"middle\" x=\"47\" y=\"-220.8\" font-family=\"Times,serif\" font-size=\"14.00\">Activation</text>\n",
       "<text text-anchor=\"middle\" x=\"47\" y=\"-205.8\" font-family=\"Times,serif\" font-size=\"14.00\">relu</text>\n",
       "</g>\n",
       "<!-- relu1&#45;&gt;fc1 -->\n",
       "<g id=\"edge2\" class=\"edge\"><title>relu1&#45;&gt;fc1</title>\n",
       "<path fill=\"none\" stroke=\"black\" d=\"M47,-177.744C47,-169.204 47,-160.298 47,-152.248\"/>\n",
       "<polygon fill=\"black\" stroke=\"black\" points=\"47,-187.897 42.5001,-177.897 47,-182.897 47.0001,-177.897 47.0001,-177.897 47.0001,-177.897 47,-182.897 51.5001,-177.897 47,-187.897 47,-187.897\"/>\n",
       "</g>\n",
       "<!-- fc2 -->\n",
       "<g id=\"node4\" class=\"node\"><title>fc2</title>\n",
       "<polygon fill=\"#fb8072\" stroke=\"black\" points=\"94,-340 -7.10543e-15,-340 -7.10543e-15,-282 94,-282 94,-340\"/>\n",
       "<text text-anchor=\"middle\" x=\"47\" y=\"-314.8\" font-family=\"Times,serif\" font-size=\"14.00\">FullyConnected</text>\n",
       "<text text-anchor=\"middle\" x=\"47\" y=\"-299.8\" font-family=\"Times,serif\" font-size=\"14.00\">64</text>\n",
       "</g>\n",
       "<!-- fc2&#45;&gt;relu1 -->\n",
       "<g id=\"edge3\" class=\"edge\"><title>fc2&#45;&gt;relu1</title>\n",
       "<path fill=\"none\" stroke=\"black\" d=\"M47,-271.744C47,-263.204 47,-254.298 47,-246.248\"/>\n",
       "<polygon fill=\"black\" stroke=\"black\" points=\"47,-281.897 42.5001,-271.897 47,-276.897 47.0001,-271.897 47.0001,-271.897 47.0001,-271.897 47,-276.897 51.5001,-271.897 47,-281.897 47,-281.897\"/>\n",
       "</g>\n",
       "<!-- relu2 -->\n",
       "<g id=\"node5\" class=\"node\"><title>relu2</title>\n",
       "<polygon fill=\"#ffffb3\" stroke=\"black\" points=\"94,-434 -7.10543e-15,-434 -7.10543e-15,-376 94,-376 94,-434\"/>\n",
       "<text text-anchor=\"middle\" x=\"47\" y=\"-408.8\" font-family=\"Times,serif\" font-size=\"14.00\">Activation</text>\n",
       "<text text-anchor=\"middle\" x=\"47\" y=\"-393.8\" font-family=\"Times,serif\" font-size=\"14.00\">relu</text>\n",
       "</g>\n",
       "<!-- relu2&#45;&gt;fc2 -->\n",
       "<g id=\"edge4\" class=\"edge\"><title>relu2&#45;&gt;fc2</title>\n",
       "<path fill=\"none\" stroke=\"black\" d=\"M47,-365.744C47,-357.204 47,-348.298 47,-340.248\"/>\n",
       "<polygon fill=\"black\" stroke=\"black\" points=\"47,-375.897 42.5001,-365.897 47,-370.897 47.0001,-365.897 47.0001,-365.897 47.0001,-365.897 47,-370.897 51.5001,-365.897 47,-375.897 47,-375.897\"/>\n",
       "</g>\n",
       "<!-- fc3 -->\n",
       "<g id=\"node6\" class=\"node\"><title>fc3</title>\n",
       "<polygon fill=\"#fb8072\" stroke=\"black\" points=\"94,-528 -7.10543e-15,-528 -7.10543e-15,-470 94,-470 94,-528\"/>\n",
       "<text text-anchor=\"middle\" x=\"47\" y=\"-502.8\" font-family=\"Times,serif\" font-size=\"14.00\">FullyConnected</text>\n",
       "<text text-anchor=\"middle\" x=\"47\" y=\"-487.8\" font-family=\"Times,serif\" font-size=\"14.00\">10</text>\n",
       "</g>\n",
       "<!-- fc3&#45;&gt;relu2 -->\n",
       "<g id=\"edge5\" class=\"edge\"><title>fc3&#45;&gt;relu2</title>\n",
       "<path fill=\"none\" stroke=\"black\" d=\"M47,-459.744C47,-451.204 47,-442.298 47,-434.248\"/>\n",
       "<polygon fill=\"black\" stroke=\"black\" points=\"47,-469.897 42.5001,-459.897 47,-464.897 47.0001,-459.897 47.0001,-459.897 47.0001,-459.897 47,-464.897 51.5001,-459.897 47,-469.897 47,-469.897\"/>\n",
       "</g>\n",
       "<!-- softmax_label -->\n",
       "<g id=\"node7\" class=\"node\"><title>softmax_label</title>\n",
       "<ellipse fill=\"#8dd3c7\" stroke=\"black\" cx=\"159\" cy=\"-499\" rx=\"47\" ry=\"29\"/>\n",
       "<text text-anchor=\"middle\" x=\"159\" y=\"-495.3\" font-family=\"Times,serif\" font-size=\"14.00\">softmax_label</text>\n",
       "</g>\n",
       "<!-- softmax -->\n",
       "<g id=\"node8\" class=\"node\"><title>softmax</title>\n",
       "<polygon fill=\"#fccde5\" stroke=\"black\" points=\"150,-622 56,-622 56,-564 150,-564 150,-622\"/>\n",
       "<text text-anchor=\"middle\" x=\"103\" y=\"-589.3\" font-family=\"Times,serif\" font-size=\"14.00\">SoftmaxOutput</text>\n",
       "</g>\n",
       "<!-- softmax&#45;&gt;fc3 -->\n",
       "<g id=\"edge6\" class=\"edge\"><title>softmax&#45;&gt;fc3</title>\n",
       "<path fill=\"none\" stroke=\"black\" d=\"M80.5686,-555.148C75.113,-546.186 69.3635,-536.74 64.1943,-528.248\"/>\n",
       "<polygon fill=\"black\" stroke=\"black\" points=\"85.8939,-563.897 76.8505,-557.695 83.2941,-559.626 80.6944,-555.355 80.6944,-555.355 80.6944,-555.355 83.2941,-559.626 84.5383,-553.015 85.8939,-563.897 85.8939,-563.897\"/>\n",
       "</g>\n",
       "<!-- softmax&#45;&gt;softmax_label -->\n",
       "<g id=\"edge7\" class=\"edge\"><title>softmax&#45;&gt;softmax_label</title>\n",
       "<path fill=\"none\" stroke=\"black\" d=\"M125.377,-555.237C131.257,-545.578 137.481,-535.353 142.955,-526.36\"/>\n",
       "<polygon fill=\"black\" stroke=\"black\" points=\"120.106,-563.897 121.462,-553.015 122.706,-559.626 125.306,-555.355 125.306,-555.355 125.306,-555.355 122.706,-559.626 129.15,-557.695 120.106,-563.897 120.106,-563.897\"/>\n",
       "</g>\n",
       "</g>\n",
       "</svg>\n"
      ],
      "text/plain": [
       "<graphviz.dot.Digraph at 0x7f7f0083b990>"
      ]
     },
     "execution_count": 3,
     "metadata": {},
     "output_type": "execute_result"
    }
   ],
   "source": [
    "mx.viz.plot_network(mlp)"
   ]
  },
  {
   "cell_type": "markdown",
   "metadata": {
    "nbpresent": {
     "id": "5eec9caa-f5e7-4682-bf8c-7ca0aff38341"
    }
   },
   "source": [
    "### Variable Naming\n",
    "\n",
    "MXNet requires variable names to follow certain conventions:\n",
    "- All input arrays have a name. This includes inputs (data & label) and model parameters (weight, bias, etc).\n",
    "- Arrays can be renamed by creating named variable. Otherwise, a default name is given as 'SymbolName_ArrayName'. For example, FullyConnected symbol fc1's weight array is named as 'fc1_weight'.\n",
    "- Although you can also rename weight arrays with variables, weight array's name should always end with '_weight' and bias array '_bias'. MXNet relies on the suffixes of array names to correctly initialize & update them.\n",
    "\n",
    "Call list_arguments method on a symbol to get the names of all its inputs:"
   ]
  },
  {
   "cell_type": "code",
   "execution_count": 4,
   "metadata": {
    "collapsed": false,
    "nbpresent": {
     "id": "043e0476-dbd3-4bfd-bf23-7e246c9c9e5d"
    }
   },
   "outputs": [
    {
     "data": {
      "text/plain": [
       "['data',\n",
       " 'fc1_weight',\n",
       " 'fc1_bias',\n",
       " 'fc2_weight',\n",
       " 'fc2_bias',\n",
       " 'fc3_weight',\n",
       " 'fc3_bias',\n",
       " 'softmax_label']"
      ]
     },
     "execution_count": 4,
     "metadata": {},
     "output_type": "execute_result"
    }
   ],
   "source": [
    "mlp.list_arguments()"
   ]
  },
  {
   "cell_type": "markdown",
   "metadata": {
    "nbpresent": {
     "id": "4dab09de-dc39-4d22-9179-496581e0981f"
    }
   },
   "source": [
    "### Data Loading\n",
    "\n",
    "We fetch and load the MNIST dataset and partition it into two sets: 60000 examples for training and 10000 examples for testing. We also visualize a few examples to get an idea of what the dataset looks like."
   ]
  },
  {
   "cell_type": "code",
   "execution_count": 5,
   "metadata": {
    "collapsed": false,
    "nbpresent": {
     "id": "97c8acac-0c72-4cd2-a820-5c349442f1d4"
    }
   },
   "outputs": [
    {
     "data": {
      "image/png": "[encoded data removed]",
      "text/plain": [
       "<matplotlib.figure.Figure at 0x7f7f38f8aa90>"
      ]
     },
     "metadata": {},
     "output_type": "display_data"
    }
   ],
   "source": [
    "from sklearn.datasets import fetch_mldata\n",
    "mnist = fetch_mldata('MNIST original')\n",
    "np.random.seed(1234) # set seed for deterministic ordering\n",
    "p = np.random.permutation(mnist.data.shape[0])\n",
    "X = mnist.data[p]\n",
    "Y = mnist.target[p]\n",
    "\n",
    "for i in range(10):\n",
    "    plt.subplot(1,10,i+1)\n",
    "    plt.imshow(X[i].reshape((28,28)), cmap='Greys_r')\n",
    "    plt.axis('off')\n",
    "plt.show()\n",
    "\n",
    "X = X.astype(np.float32)/255\n",
    "X_train = X[:60000]\n",
    "X_test = X[60000:]\n",
    "Y_train = Y[:60000]\n",
    "Y_test = Y[60000:]"
   ]
  },
  {
   "cell_type": "markdown",
   "metadata": {
    "nbpresent": {
     "id": "877d1871-da81-4c31-b781-994b8e7d7101"
    }
   },
   "source": [
    "Now we can create data iterators from our MNIST data. A data iterator returns a batch of data examples each time for the network to process. MXNet provide a suite of basic DataIters for parsing different data format. Here we use NDArrayIter, which wraps around a numpy array and each time slice a chunk from it along the first dimension."
   ]
  },
  {
   "cell_type": "code",
   "execution_count": 6,
   "metadata": {
    "collapsed": false,
    "nbpresent": {
     "id": "4512c75f-97f7-4cd3-b58e-382a219f545a"
    }
   },
   "outputs": [],
   "source": [
    "batch_size = 100\n",
    "train_iter = mx.io.NDArrayIter(X_train, Y_train, batch_size=batch_size)\n",
    "test_iter = mx.io.NDArrayIter(X_test, Y_test, batch_size=batch_size)"
   ]
  },
  {
   "cell_type": "markdown",
   "metadata": {
    "nbpresent": {
     "id": "c19722c4-d964-4015-aa6c-65caf576e595"
    }
   },
   "source": [
    "### Model Training\n",
    "\n",
    "With the network and data source defined, we can finally start to train our model. We do this with MXNet's convenience wrapper for feed forward neural networks (it can also be made to handle RNNs with explicit unrolling). "
   ]
  },
  {
   "cell_type": "code",
   "execution_count": 8,
   "metadata": {
    "collapsed": false,
    "nbpresent": {
     "id": "c08ca8e9-e0f5-4395-8cb5-9edf9d40039d"
    }
   },
   "outputs": [],
   "source": [
    "model = mx.model.FeedForward(\n",
    "    ctx = mx.gpu(0),         # Run on GPU 0\n",
    "    symbol = mlp,            # Use the network we just defined\n",
    "    num_epoch = 10,          # Train for 10 epochs\n",
    "    optimizer = 'sgd',       # optimize using SGD\n",
    "    initializer = mx.init.Uniform(0.01), # initilize using uniform\n",
    "    learning_rate = 0.1,     # Learning rate\n",
    "    momentum = 0.9,          # Momentum for SGD with momentum\n",
    "    wd = 0.00001             # Weight decay for regularization\n",
    ")\n",
    "model.fit(\n",
    "    X=train_iter,  # Training data set\n",
    "    eval_data=test_iter,  # Testing data set. MXNet computes scores on test set every epoch\n",
    "    batch_end_callback = mx.callback.Speedometer(batch_size, 200)  # Logging module to print out progress\n",
    ")"
   ]
  },
  {
   "cell_type": "markdown",
   "metadata": {
    "nbpresent": {
     "id": "9fcce6da-b3e1-415e-a764-2770389bf588"
    }
   },
   "source": [
    "### Model Evaluation\n",
    "\n",
    "After the model is trained, we can evaluate it on a held out test set.\n",
    "First, lets classity a sample image:"
   ]
  },
  {
   "cell_type": "code",
   "execution_count": 9,
   "metadata": {
    "collapsed": false,
    "nbpresent": {
     "id": "e4c57050-20f0-4d7c-8ca0-ee7d80b8039b"
    }
   },
   "outputs": [
    {
     "data": {
      "image/png": "[encoded data removed]",
      "text/plain": [
       "<matplotlib.figure.Figure at 0x7f7ef196f850>"
      ]
     },
     "metadata": {},
     "output_type": "display_data"
    },
    {
     "name": "stdout",
     "output_type": "stream",
     "text": [
      "Result: 7\n"
     ]
    }
   ],
   "source": [
    "plt.imshow((X_test[0].reshape((28,28))*255).astype(np.uint8), cmap='Greys_r')\n",
    "plt.show()\n",
    "print 'Result:', model.predict(X_test[0:1])[0].argmax()"
   ]
  },
  {
   "cell_type": "markdown",
   "metadata": {
    "nbpresent": {
     "id": "b27e485b-b099-4970-9d2a-f92abcfc40af"
    }
   },
   "source": [
    "We can also evaluate the model's accuracy on the entire test set:"
   ]
  },
  {
   "cell_type": "code",
   "execution_count": 10,
   "metadata": {
    "collapsed": false,
    "nbpresent": {
     "id": "a112aae4-4dfb-4ec8-920e-26acd0ebf9fa"
    },
    "scrolled": true
   },
   "outputs": [
    {
     "name": "stdout",
     "output_type": "stream",
     "text": [
      "Accuracy: 97.65 %\n"
     ]
    }
   ],
   "source": [
    "print 'Accuracy:', model.score(test_iter)*100, '%'"
   ]
  },
  {
   "cell_type": "markdown",
   "metadata": {
    "collapsed": true,
    "nbpresent": {
     "id": "8df46829-03b3-464c-b74e-8e20a672bd9f"
    }
   },
   "source": [
    "Now, try if your model recognizes your own hand writing.\n",
    "\n",
    "Write a digit from 0 to 9 in the box below. Try to put your digit in the middle of the box."
   ]
  },
  {
   "cell_type": "markdown",
   "metadata": {
    "nbpresent": {
     "id": "a8cc4f6e-89fd-4996-bfa4-bc4902528e5f"
    }
   },
   "source": [
    "### Model Debugging\n",
    "\n",
    "DNNs can perform poorly for a lot of reasons, like learning rate too big/small, initialization too big/small, network structure not reasonable, etc. When this happens it's often helpful to print out the weights and intermediate outputs to understand what's going on. MXNet provides a monitor utility that does this:"
   ]
  },
  {
   "cell_type": "code",
   "execution_count": 11,
   "metadata": {
    "collapsed": false,
    "nbpresent": {
     "id": "a12f235d-2d61-461c-99c5-6dd3a18ffbe9"
    }
   },
   "outputs": [],
   "source": [
    "def norm_stat(d):\n",
    "    \"\"\"The statistics you want to see.\n",
    "    We compute the L2 norm here but you can change it to anything you like.\"\"\"\n",
    "    return mx.nd.norm(d)/np.sqrt(d.size)\n",
    "mon = mx.mon.Monitor(\n",
    "    100,                 # Print every 100 batches\n",
    "    norm_stat,           # The statistics function defined above\n",
    "    pattern='.*weight',  # A regular expression. Only arrays with name matching this pattern will be included.\n",
    "    sort=True)           # Sort output by name\n",
    "model = mx.model.FeedForward(ctx = mx.gpu(0), symbol = mlp, num_epoch = 1,\n",
    "                             learning_rate = 0.1, momentum = 0.9, wd = 0.00001)\n",
    "model.fit(X=train_iter, eval_data=test_iter, monitor=mon,  # Set the monitor here\n",
    "          batch_end_callback = mx.callback.Speedometer(100, 100))"
   ]
  },
  {
   "cell_type": "markdown",
   "metadata": {
    "nbpresent": {
     "id": "6f2c573c-06d7-4256-84ae-9856e45cb4cd"
    }
   },
   "source": [
    "### Custom Training\n",
    "\n",
    "`mx.model.FeedForward` is a convenience wrapper for training standard feed forward networks. What if the model you are working with is more complicated? With MXNet, you can easily control every aspect of training by writing your own training loop.\n",
    "\n",
    "Neural network training typically has 3 steps: forward, backward (gradient), and update. With custom training loop, you can control the details in each step as while as insert complicated computations in between. You can also connect multiple networks together."
   ]
  },
  {
   "cell_type": "code",
   "execution_count": 12,
   "metadata": {
    "collapsed": false,
    "nbpresent": {
     "id": "fce114fc-75d2-472f-9f90-f47836e9f638"
    }
   },
   "outputs": [
    {
     "name": "stdout",
     "output_type": "stream",
     "text": [
      "input_shapes {'softmax_label': (100,), 'data': (100, 784L)}\n",
      "epoch: 0 iter: 100 metric: ('accuracy', 0.1427)\n",
      "epoch: 0 iter: 200 metric: ('accuracy', 0.42695)\n",
      "epoch: 0 iter: 300 metric: ('accuracy', 0.5826333333333333)\n",
      "epoch: 0 iter: 400 metric: ('accuracy', 0.66875)\n",
      "epoch: 0 iter: 500 metric: ('accuracy', 0.72238)\n",
      "epoch: 0 iter: 600 metric: ('accuracy', 0.7602166666666667)\n",
      "epoch: 1 iter: 100 metric: ('accuracy', 0.9504)\n",
      "epoch: 1 iter: 200 metric: ('accuracy', 0.9515)\n",
      "epoch: 1 iter: 300 metric: ('accuracy', 0.9547666666666667)\n",
      "epoch: 1 iter: 400 metric: ('accuracy', 0.956475)\n",
      "epoch: 1 iter: 500 metric: ('accuracy', 0.95762)\n",
      "epoch: 1 iter: 600 metric: ('accuracy', 0.9591666666666666)\n",
      "epoch: 2 iter: 100 metric: ('accuracy', 0.9681)\n",
      "epoch: 2 iter: 200 metric: ('accuracy', 0.9699)\n",
      "epoch: 2 iter: 300 metric: ('accuracy', 0.9718666666666667)\n",
      "epoch: 2 iter: 400 metric: ('accuracy', 0.97205)\n",
      "epoch: 2 iter: 500 metric: ('accuracy', 0.97282)\n",
      "epoch: 2 iter: 600 metric: ('accuracy', 0.9728833333333333)\n",
      "epoch: 3 iter: 100 metric: ('accuracy', 0.9776)\n",
      "epoch: 3 iter: 200 metric: ('accuracy', 0.97755)\n",
      "epoch: 3 iter: 300 metric: ('accuracy', 0.9782666666666666)\n",
      "epoch: 3 iter: 400 metric: ('accuracy', 0.977775)\n",
      "epoch: 3 iter: 500 metric: ('accuracy', 0.97842)\n",
      "epoch: 3 iter: 600 metric: ('accuracy', 0.9788666666666667)\n",
      "epoch: 4 iter: 100 metric: ('accuracy', 0.9804)\n",
      "epoch: 4 iter: 200 metric: ('accuracy', 0.98145)\n",
      "epoch: 4 iter: 300 metric: ('accuracy', 0.9818333333333333)\n",
      "epoch: 4 iter: 400 metric: ('accuracy', 0.981725)\n",
      "epoch: 4 iter: 500 metric: ('accuracy', 0.98214)\n",
      "epoch: 4 iter: 600 metric: ('accuracy', 0.9825333333333334)\n",
      "epoch: 5 iter: 100 metric: ('accuracy', 0.985)\n",
      "epoch: 5 iter: 200 metric: ('accuracy', 0.98415)\n",
      "epoch: 5 iter: 300 metric: ('accuracy', 0.9843333333333333)\n",
      "epoch: 5 iter: 400 metric: ('accuracy', 0.98425)\n",
      "epoch: 5 iter: 500 metric: ('accuracy', 0.9846)\n",
      "epoch: 5 iter: 600 metric: ('accuracy', 0.9846833333333334)\n",
      "epoch: 6 iter: 100 metric: ('accuracy', 0.9848)\n",
      "epoch: 6 iter: 200 metric: ('accuracy', 0.98445)\n",
      "epoch: 6 iter: 300 metric: ('accuracy', 0.9853333333333333)\n",
      "epoch: 6 iter: 400 metric: ('accuracy', 0.98555)\n",
      "epoch: 6 iter: 500 metric: ('accuracy', 0.9857)\n",
      "epoch: 6 iter: 600 metric: ('accuracy', 0.9862166666666666)\n",
      "epoch: 7 iter: 100 metric: ('accuracy', 0.9868)\n",
      "epoch: 7 iter: 200 metric: ('accuracy', 0.9858)\n",
      "epoch: 7 iter: 300 metric: ('accuracy', 0.9867333333333334)\n",
      "epoch: 7 iter: 400 metric: ('accuracy', 0.986825)\n",
      "epoch: 7 iter: 500 metric: ('accuracy', 0.98674)\n",
      "epoch: 7 iter: 600 metric: ('accuracy', 0.9869166666666667)\n",
      "epoch: 8 iter: 100 metric: ('accuracy', 0.9883)\n",
      "epoch: 8 iter: 200 metric: ('accuracy', 0.98825)\n",
      "epoch: 8 iter: 300 metric: ('accuracy', 0.9886666666666667)\n",
      "epoch: 8 iter: 400 metric: ('accuracy', 0.989075)\n",
      "epoch: 8 iter: 500 metric: ('accuracy', 0.98954)\n",
      "epoch: 8 iter: 600 metric: ('accuracy', 0.9896)\n",
      "epoch: 9 iter: 100 metric: ('accuracy', 0.9894)\n",
      "epoch: 9 iter: 200 metric: ('accuracy', 0.98945)\n",
      "epoch: 9 iter: 300 metric: ('accuracy', 0.9893333333333333)\n",
      "epoch: 9 iter: 400 metric: ('accuracy', 0.98935)\n",
      "epoch: 9 iter: 500 metric: ('accuracy', 0.98972)\n",
      "epoch: 9 iter: 600 metric: ('accuracy', 0.9903166666666666)\n"
     ]
    }
   ],
   "source": [
    "# ==================Binding=====================\n",
    "# The symbol we created is only a graph description.\n",
    "# To run it, we first need to allocate memory and create an executor by 'binding' it.\n",
    "# In order to bind a symbol, we need at least two pieces of information: context and input shapes.\n",
    "# Context specifies which device the executor runs on, e.g. cpu, GPU0, GPU1, etc.\n",
    "# Input shapes define the executor's input array dimensions.\n",
    "# MXNet then run automatic shape inference to determine the dimensions of intermediate and output arrays.\n",
    "\n",
    "# data iterators defines shapes of its output with provide_data and provide_label property.\n",
    "input_shapes = dict(train_iter.provide_data+train_iter.provide_label)\n",
    "print 'input_shapes', input_shapes\n",
    "# We use simple_bind to let MXNet allocate memory for us.\n",
    "# You can also allocate memory youself and use bind to pass it to MXNet.\n",
    "exe = mlp.simple_bind(ctx=mx.gpu(0), **input_shapes)\n",
    "\n",
    "# ===============Initialization=================\n",
    "# First we get handle to input arrays\n",
    "arg_arrays = dict(zip(mlp.list_arguments(), exe.arg_arrays))\n",
    "data = arg_arrays[train_iter.provide_data[0][0]]\n",
    "label = arg_arrays[train_iter.provide_label[0][0]]\n",
    "\n",
    "# We initialize the weights with uniform distribution on (-0.01, 0.01).\n",
    "init = mx.init.Uniform(scale=0.01)\n",
    "for name, arr in arg_arrays.items():\n",
    "    if name not in input_shapes:\n",
    "        init(name, arr)\n",
    "    \n",
    "# We also need to create an optimizer for updating weights\n",
    "opt = mx.optimizer.SGD(\n",
    "    learning_rate=0.1,\n",
    "    momentum=0.9,\n",
    "    wd=0.00001,\n",
    "    rescale_grad=1.0/train_iter.batch_size)\n",
    "updater = mx.optimizer.get_updater(opt)\n",
    "\n",
    "# Finally we need a metric to print out training progress\n",
    "metric = mx.metric.Accuracy()\n",
    "\n",
    "# Training loop begines\n",
    "for epoch in range(10):\n",
    "    train_iter.reset()\n",
    "    metric.reset()\n",
    "    t = 0\n",
    "    for batch in train_iter:\n",
    "        # Copy data to executor input. Note the [:].\n",
    "        data[:] = batch.data[0]\n",
    "        label[:] = batch.label[0]\n",
    "        \n",
    "        # Forward\n",
    "        exe.forward(is_train=True)\n",
    "        \n",
    "        # You perform operations on exe.outputs here if you need to.\n",
    "        # For example, you can stack a CRF on top of a neural network.\n",
    "        \n",
    "        # Backward\n",
    "        exe.backward()\n",
    "        \n",
    "        # Update\n",
    "        for i, pair in enumerate(zip(exe.arg_arrays, exe.grad_arrays)):\n",
    "            weight, grad = pair\n",
    "            updater(i, grad, weight)\n",
    "        metric.update(batch.label, exe.outputs)\n",
    "        t += 1\n",
    "        if t % 100 == 0:\n",
    "            print 'epoch:', epoch, 'iter:', t, 'metric:', metric.get()\n"
   ]
  },
  {
   "cell_type": "markdown",
   "metadata": {
    "nbpresent": {
     "id": "fc4a78cf-fc0b-4dcd-9084-b163fc78f19e"
    }
   },
   "source": [
    "### Create New Operators\n",
    "\n",
    "MXNet provides a repository of common operators (or layers). However, new models often require new layers. There are several ways to [create new operators](https://mxnet.readthedocs.org/en/latest/tutorial/new_op_howto.html) with MXNet. Here we talk about the easiest way: pure python. "
   ]
  },
  {
   "cell_type": "code",
   "execution_count": 13,
   "metadata": {
    "collapsed": false,
    "nbpresent": {
     "id": "a9a6d14f-4051-4248-ba8b-e0ad0c137ca7"
    }
   },
   "outputs": [],
   "source": [
    "# Define custom softmax operator\n",
    "class NumpySoftmax(mx.operator.NumpyOp):\n",
    "    def __init__(self):\n",
    "        # Call the parent class constructor. \n",
    "        # Because NumpySoftmax is a loss layer, it doesn't need gradient input from layers above.\n",
    "        super(NumpySoftmax, self).__init__(need_top_grad=False)\n",
    "    \n",
    "    def list_arguments(self):\n",
    "        # Define the input to NumpySoftmax.\n",
    "        return ['data', 'label']\n",
    "\n",
    "    def list_outputs(self):\n",
    "        # Define the output.\n",
    "        return ['output']\n",
    "\n",
    "    def infer_shape(self, in_shape):\n",
    "        # Calculate the dimensions of the output (and missing inputs) from (some) input shapes.\n",
    "        data_shape = in_shape[0]  # shape of first argument 'data'\n",
    "        label_shape = (in_shape[0][0],)  # 'label' should be one dimensional and has batch_size instances.\n",
    "        output_shape = in_shape[0] # 'output' dimension is the same as the input.\n",
    "        return [data_shape, label_shape], [output_shape]\n",
    "\n",
    "    def forward(self, in_data, out_data):\n",
    "        x = in_data[0]  # 'data'\n",
    "        y = out_data[0]  # 'output'\n",
    "        \n",
    "        # Compute softmax\n",
    "        y[:] = np.exp(x - x.max(axis=1).reshape((x.shape[0], 1)))\n",
    "        y /= y.sum(axis=1).reshape((x.shape[0], 1))\n",
    "\n",
    "    def backward(self, out_grad, in_data, out_data, in_grad):\n",
    "        l = in_data[1]  # 'label'\n",
    "        l = l.reshape((l.size,)).astype(np.int)  # cast to int\n",
    "        y = out_data[0]  # 'output'\n",
    "        dx = in_grad[0]  # gradient for 'data'\n",
    "        \n",
    "        # Compute gradient\n",
    "        dx[:] = y\n",
    "        dx[np.arange(l.shape[0]), l] -= 1.0\n",
    "\n",
    "numpy_softmax = NumpySoftmax()\n",
    "\n",
    "data = mx.symbol.Variable('data')\n",
    "fc1 = mx.symbol.FullyConnected(data = data, name='fc1', num_hidden=128)\n",
    "act1 = mx.symbol.Activation(data = fc1, name='relu1', act_type=\"relu\")\n",
    "fc2 = mx.symbol.FullyConnected(data = act1, name = 'fc2', num_hidden = 64)\n",
    "act2 = mx.symbol.Activation(data = fc2, name='relu2', act_type=\"relu\")\n",
    "fc3 = mx.symbol.FullyConnected(data = act2, name='fc3', num_hidden=10)\n",
    "# Use the new operator we just defined instead of the standard softmax operator.\n",
    "mlp = numpy_softmax(data=fc3, name = 'softmax')\n",
    "\n",
    "model = mx.model.FeedForward(ctx = mx.gpu(0), symbol = mlp, num_epoch = 2,\n",
    "                             learning_rate = 0.1, momentum = 0.9, wd = 0.00001)\n",
    "model.fit(X=train_iter, eval_data=test_iter,\n",
    "          batch_end_callback = mx.callback.Speedometer(100, 100))"
   ]
  },
  {
   "cell_type": "markdown",
   "metadata": {
    "collapsed": true,
    "nbpresent": {
     "id": "014da8ee-1c5b-4fe4-8f7e-27bd9d3fc881"
    }
   },
   "source": [
    "## MXNet Advanced Topic: Data Iterator and Bucketing\n",
    "\n",
    "### Customized Data Iterator\n",
    "```Python\n",
    "class SimpleBatch(object):\n",
    "\tdef __init__(self, data, label):\n",
    "    @property\n",
    "    def provide_data(self):\n",
    "\t\treturn [('data_name1' , data1),\n",
    "                ('data_name2' , data2)]\n",
    "                \n",
    "    @property\n",
    "    def provide_label(self):\n",
    "\t\treturn [('label_name', label1)]\n",
    "\n",
    "class SequenceIter(mx.io.DataIter):\n",
    "\tdef __init__(self, data, label):\n",
    "\t\tsuper(SequenceIter, self).__init__() \n",
    "     \n",
    "    @property\n",
    "    def provide_data(self):\n",
    "\t\treturn [('data_name1' , data_shape1),\n",
    "                ('data_name2' , data_shape2)]\n",
    "                \n",
    "    @property\n",
    "    def provide_label(self):\n",
    "\t\treturn [('label_name', label_shape)]\n",
    "\n",
    "\tdef __iter__(self):\n",
    "        while (condition):\n",
    "            data_batch = SimpleBatch(data, label)\n",
    "\t\t\tyield data_batch\n",
    "            \n",
    "\tdef reset(self):\n",
    "\t\tself.reset_iterator\t\n",
    "\n",
    "```"
   ]
  },
  {
   "cell_type": "markdown",
   "metadata": {
    "nbpresent": {
     "id": "8e221536-2ec5-426c-ae3c-ab6db9414b65"
    }
   },
   "source": [
    "### Bucketing\n",
    "0. RNN Implementation\n",
    " - Always Explicitly Unroll the RNN: Need to know length at advance\n",
    " - Always use the maximum possible sequence length: Computation Waste\n",
    "<img src=\"http://colah.github.io/posts/2015-08-Understanding-LSTMs/img/RNN-unrolled.png\" width=\"800\" height=\"400\"/>\n",
    "\n",
    "0. Bucketing\n",
    " - Unroll multiple instances of different lengths (e.g., length 5, 10, 20, 30)\n",
    " - Choose the most appropriate unrolled model for each mini-batch of data with different sequence length.\n",
    " - Share the parameters for different instance.\n"
   ]
  },
  {
   "cell_type": "markdown",
   "metadata": {
    "nbpresent": {
     "id": "2a43b053-84d7-4262-ab03-73a922e2d945"
    }
   },
   "source": [
    "Use Details\n",
    "\n",
    "- Constructe a model with a function that generates a new Symbol on a bucket key instead of a fixed Symbol\n",
    " \n",
    "```Python\n",
    "def sym_gen(seq_len):\n",
    "    return lstm_unroll(num_lstm_layer, seq_len, len(vocab),\n",
    "                       num_hidden=num_hidden, num_embed=num_embed,\n",
    "                       num_label=len(vocab)\n",
    "           )\n",
    "model = mx.model.FeedForward(\n",
    "        ctx     = contexts,\n",
    "        symbol  = sym_gen\n",
    ")\n",
    "```\n",
    "\n",
    " - Provide additional attributes in Data Iterator\n",
    "\n",
    "```Python\n",
    "class SimpleBatch(object):\n",
    "\tdef __init__(self, data, label):\n",
    "    @property\n",
    "    def bucket_key(self):\n",
    "\t\treturn bucket_key\n",
    "                \n",
    "\n",
    "class SequenceIter(mx.io.DataIter):     \n",
    "    @property\n",
    "    def default_bucket_key(self):\n",
    "\t\treturn default_bucket_key\n",
    "```\n",
    " - Beyond Sequence Training: bucket key can be an arbitrary object, tuple for seq2seq network"
   ]
  }
 ],
 "metadata": {
  "kernelspec": {
   "display_name": "Python [Root]",
   "language": "python",
   "name": "Python [Root]"
  },
  "language_info": {
   "codemirror_mode": {
    "name": "ipython",
    "version": 2
   },
   "file_extension": ".py",
   "mimetype": "text/x-python",
   "name": "python",
   "nbconvert_exporter": "python",
   "pygments_lexer": "ipython2",
   "version": "2.7.12"
  },
  "nbpresent": {
   "slides": {
    "282d9d6a-b55e-447e-a154-f57f00583d37": {
     "id": "282d9d6a-b55e-447e-a154-f57f00583d37",
     "prev": "410f991a-bc16-49fb-9583-e407829a837c",
     "regions": {
      "b8aa4f9e-be3c-48ba-a236-eff5980d9b15": {
       "attrs": {
        "height": 1,
        "width": 1,
        "x": 0,
        "y": 0
       },
       "id": "b8aa4f9e-be3c-48ba-a236-eff5980d9b15"
      },
      "eb797b23-cbd7-4010-b413-1c025851bfd7": {
       "attrs": {
        "height": 0.8951773953686002,
        "width": 0.9300191204588911,
        "x": 0.03690248565965584,
        "y": 0.05241130231569998
       },
       "content": {
        "cell": "9d397911-df60-42ef-bb69-2ec9ed10af5f",
        "part": "source"
       },
       "id": "eb797b23-cbd7-4010-b413-1c025851bfd7"
      }
     }
    },
    "326451a5-7422-4902-959e-33ba635790ea": {
     "id": "326451a5-7422-4902-959e-33ba635790ea",
     "prev": "f267e5d4-7d1d-482d-89d4-f2899d2947bd",
     "regions": {
      "998b202c-79b6-4829-9acf-73d479fd0a24": {
       "attrs": {
        "height": 0.8,
        "width": 0.8,
        "x": 0.1,
        "y": 0.1
       },
       "content": {
        "cell": "c22349f2-da1a-4699-aba8-8cbf7884be70",
        "part": "source"
       },
       "id": "998b202c-79b6-4829-9acf-73d479fd0a24"
      },
      "acbfbab3-1cee-4902-b374-56efd30fd513": {
       "attrs": {
        "height": 1,
        "width": 1,
        "x": 0,
        "y": 0
       },
       "id": "acbfbab3-1cee-4902-b374-56efd30fd513"
      }
     }
    },
    "40e1a0e1-c828-43a4-8208-2413c27221e7": {
     "id": "40e1a0e1-c828-43a4-8208-2413c27221e7",
     "prev": null,
     "regions": {
      "6fa5afcf-c541-48b2-8322-a96eccaef4a9": {
       "attrs": {
        "height": 1,
        "width": 1,
        "x": 0,
        "y": 0
       },
       "id": "6fa5afcf-c541-48b2-8322-a96eccaef4a9"
      },
      "73a0bd49-f36f-4eb6-b0b8-c06d60ed9f46": {
       "attrs": {
        "height": 0.8305927342256215,
        "width": 0.8172084130019122,
        "x": 0.09330783938814532,
        "y": 0.1662842574888464
       },
       "content": {
        "cell": "50411765-bf5d-4c84-9915-48f71f3ea3d2",
        "part": "source"
       },
       "id": "73a0bd49-f36f-4eb6-b0b8-c06d60ed9f46"
      },
      "f3b086de-5054-409e-b8d4-3ac5b7c77673": {
       "attrs": {
        "height": 0.1388570214574039,
        "width": 0.8200764818355641,
        "x": 0.08948374760994265,
        "y": 0.015020182706607191
       },
       "content": {
        "cell": "0cf282bb-0598-4803-9718-a7e8ccc4abd2",
        "part": "source"
       },
       "id": "f3b086de-5054-409e-b8d4-3ac5b7c77673"
      }
     }
    },
    "410f991a-bc16-49fb-9583-e407829a837c": {
     "id": "410f991a-bc16-49fb-9583-e407829a837c",
     "prev": "9e11c041-c1a7-4fc5-97bb-8409da6a750e",
     "regions": {
      "267442c8-fbe5-4206-b9e6-fdc5341b636a": {
       "attrs": {
        "height": 0.8,
        "width": 0.8,
        "x": 0.1,
        "y": 0.1
       },
       "content": {
        "cell": "e1841afb-3e76-4b44-a497-012e2954f154",
        "part": "source"
       },
       "id": "267442c8-fbe5-4206-b9e6-fdc5341b636a"
      },
      "72a4a55d-9978-4d0f-b46d-a4f59520c36d": {
       "attrs": {
        "height": 1,
        "width": 1,
        "x": 0,
        "y": 0
       },
       "content": null,
       "id": "72a4a55d-9978-4d0f-b46d-a4f59520c36d"
      }
     }
    },
    "4d15119b-e0ab-4e26-94b9-174d369edc21": {
     "id": "4d15119b-e0ab-4e26-94b9-174d369edc21",
     "prev": "282d9d6a-b55e-447e-a154-f57f00583d37",
     "regions": {
      "cfad062b-6271-4575-9cda-d6bd8eba5b24": {
       "attrs": {
        "height": 0.44145656726217,
        "width": 0.95878616796048,
        "x": 0.020959774170783357,
        "y": 0.5265662981259311
       },
       "content": {
        "cell": "76e88138-e7f4-4c74-ae8f-59a2381e8360",
        "part": "source"
       },
       "id": "cfad062b-6271-4575-9cda-d6bd8eba5b24"
      },
      "fad2087c-6b76-4d74-8463-59e7aace6d32": {
       "attrs": {
        "height": 0.43114561279698904,
        "width": 0.9538461538461539,
        "x": 0.024488355681016264,
        "y": 0.03601505528111027
       },
       "content": {
        "cell": "b03eea61-a2c8-4089-ad8b-be8896fd976b",
        "part": "source"
       },
       "id": "fad2087c-6b76-4d74-8463-59e7aace6d32"
      }
     }
    },
    "50787380-8736-434a-bd5c-ca4ae48e5e6d": {
     "id": "50787380-8736-434a-bd5c-ca4ae48e5e6d",
     "prev": "a5d14bb2-0993-411d-9c25-fea7c903aafa",
     "regions": {
      "ef530f9f-6b8c-4fad-afca-121fc1fdc368": {
       "attrs": {
        "height": 0.6,
        "width": 0.8,
        "x": 0.1,
        "y": 0.1
       },
       "content": {
        "cell": "1d006b2c-6613-4689-8095-79b70407d3b1",
        "part": "source"
       },
       "id": "ef530f9f-6b8c-4fad-afca-121fc1fdc368"
      }
     }
    },
    "99547156-4012-49b6-a25d-b3921701f210": {
     "id": "99547156-4012-49b6-a25d-b3921701f210",
     "prev": "50787380-8736-434a-bd5c-ca4ae48e5e6d",
     "regions": {
      "609dfa74-fc0e-4420-9a13-ff3bd0961e63": {
       "attrs": {
        "height": 0.6,
        "width": 0.8,
        "x": 0.1,
        "y": 0.1
       },
       "content": {
        "cell": "a944ce28-b0cc-4826-9b18-f012fa19ebdb",
        "part": "source"
       },
       "id": "609dfa74-fc0e-4420-9a13-ff3bd0961e63"
      }
     }
    },
    "9e11c041-c1a7-4fc5-97bb-8409da6a750e": {
     "id": "9e11c041-c1a7-4fc5-97bb-8409da6a750e",
     "prev": "40e1a0e1-c828-43a4-8208-2413c27221e7",
     "regions": {
      "0223903d-8103-4b1a-871a-91dc32df4e2d": {
       "attrs": {
        "height": 1,
        "width": 1,
        "x": 0,
        "y": 0
       },
       "id": "0223903d-8103-4b1a-871a-91dc32df4e2d"
      },
      "ad695ced-b0f9-4126-a175-38866703f2ac": {
       "attrs": {
        "height": 0.8,
        "width": 0.8,
        "x": 0.1,
        "y": 0.1
       },
       "content": {
        "cell": "13a8bcf9-e0f8-4df0-af7d-3395c8968b42",
        "part": "source"
       },
       "id": "ad695ced-b0f9-4126-a175-38866703f2ac"
      }
     }
    },
    "a5d14bb2-0993-411d-9c25-fea7c903aafa": {
     "id": "a5d14bb2-0993-411d-9c25-fea7c903aafa",
     "prev": "4d15119b-e0ab-4e26-94b9-174d369edc21",
     "regions": {
      "478c1a90-7042-480b-a75c-b526a694f9ee": {
       "attrs": {
        "height": 0.7410664967070321,
        "width": 0.8,
        "x": 0.1,
        "y": 0.1
       },
       "content": {
        "cell": "b414d183-1916-4e85-9615-c8612cc719ad",
        "part": "source"
       },
       "id": "478c1a90-7042-480b-a75c-b526a694f9ee"
      }
     }
    },
    "c67460a3-e244-4bb1-aa82-84ac30896f15": {
     "id": "c67460a3-e244-4bb1-aa82-84ac30896f15",
     "prev": "326451a5-7422-4902-959e-33ba635790ea",
     "regions": {
      "45fdf979-1834-4c42-aec0-9694abb74633": {
       "attrs": {
        "height": 0.3801997025706395,
        "width": 0.8,
        "x": 0.1,
        "y": 0.1
       },
       "content": {
        "cell": "4aa90b5b-22d8-4709-8b47-a7f75dd3fc91",
        "part": "source"
       },
       "id": "45fdf979-1834-4c42-aec0-9694abb74633"
      },
      "7d097150-c472-4938-a30c-65099437e3ff": {
       "attrs": {
        "height": 1,
        "width": 1,
        "x": 0,
        "y": 0
       },
       "id": "7d097150-c472-4938-a30c-65099437e3ff"
      },
      "96787662-047b-45f7-aea9-1f150385bf9b": {
       "attrs": {
        "height": 0.39039728064584667,
        "width": 0.8,
        "x": 0.1,
        "y": 0.5096027193541534
       },
       "content": {
        "cell": "ea2aebbd-ef27-42f0-bb7f-81f5ffa17da4",
        "part": "source"
       },
       "id": "96787662-047b-45f7-aea9-1f150385bf9b"
      }
     }
    },
    "f267e5d4-7d1d-482d-89d4-f2899d2947bd": {
     "id": "f267e5d4-7d1d-482d-89d4-f2899d2947bd",
     "prev": "99547156-4012-49b6-a25d-b3921701f210",
     "regions": {
      "111ae875-9844-4457-9b5b-54cbfcf34f9d": {
       "attrs": {
        "height": 1,
        "width": 1,
        "x": 0,
        "y": 0
       },
       "id": "111ae875-9844-4457-9b5b-54cbfcf34f9d"
      },
      "f4af32dd-0898-475a-90cb-74caf8b478e6": {
       "attrs": {
        "height": 0.8,
        "width": 0.8,
        "x": 0.1,
        "y": 0.1
       },
       "content": {
        "cell": "7013acfb-5df1-4c69-9c46-bb956ad3022a",
        "part": "source"
       },
       "id": "f4af32dd-0898-475a-90cb-74caf8b478e6"
      }
     }
    }
   },
   "themes": {}
  },
  "toc": {
   "nav_menu": {
    "height": "245px",
    "width": "252px"
   },
   "navigate_menu": true,
   "number_sections": true,
   "sideBar": true,
   "threshold": 4,
   "toc_cell": false,
   "toc_section_display": "block",
   "toc_window_display": false
  }
 },
 "nbformat": 4,
 "nbformat_minor": 0
}
